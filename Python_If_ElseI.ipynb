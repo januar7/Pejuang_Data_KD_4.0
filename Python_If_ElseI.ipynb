{
  "nbformat": 4,
  "nbformat_minor": 0,
  "metadata": {
    "colab": {
      "provenance": [],
      "toc_visible": true
    },
    "kernelspec": {
      "name": "python3",
      "display_name": "Python 3"
    },
    "language_info": {
      "name": "python"
    }
  },
  "cells": [
    {
      "cell_type": "markdown",
      "metadata": {
        "id": "IqK7NhzDDEKf"
      },
      "source": [
        "##**Percabangan/ Struktur Pemilihan**"
      ]
    },
    {
      "cell_type": "markdown",
      "metadata": {
        "id": "iQR8WRQgECSV"
      },
      "source": [
        "Pada bagian ini, kamu akan membuat keputusan pada bahasa pemrograman Python menggunakan struktur percabangan atau juga sering disebut IF ELSE Statement. Pengambilan keputusan dibutuhkan ketika kamu akan mengeksekusi suatu kode jika sebuah kondisi tertentu dipenuhi. \n",
        "\n",
        "Statement `if .. elif ... else` digunakan pada bahasa Python untuk pengambilan keputusan."
      ]
    },
    {
      "cell_type": "markdown",
      "metadata": {
        "id": "vXn6XgOaFn6c"
      },
      "source": [
        "###IF Statements"
      ]
    },
    {
      "cell_type": "markdown",
      "metadata": {
        "id": "pJNRFrI7FxHJ"
      },
      "source": [
        "**Python IF Statement Syntax**\n",
        "\n",
        "```\n",
        " if test expression:\n",
        "   statement(s)\n",
        "```\n",
        "**Python IF Statement Flowchart**\n",
        "\n",
        "![Python_if_statement.jpg](data:image/jpeg;base64,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)\n",
        "\n",
        "---\n",
        "\n",
        "**Example: Python IF Statement**\n"
      ]
    },
    {
      "cell_type": "code",
      "source": [
        "angka = -2\n",
        "if angka > 0:\n",
        "    print(angka, \"adalah bilangan negatif.\") \n",
        "print(angka,\"adalah bilangan negatif.\")\n"
      ],
      "metadata": {
        "colab": {
          "base_uri": "https://localhost:8080/"
        },
        "id": "ypusmuJ7aaiB",
        "outputId": "25552a37-5ccb-4ceb-d5e5-ed02fe2b2b9c"
      },
      "execution_count": 2,
      "outputs": [
        {
          "output_type": "stream",
          "name": "stdout",
          "text": [
            "-2 adalah bilangan negatif.\n"
          ]
        }
      ]
    },
    {
      "cell_type": "code",
      "metadata": {
        "id": "svlXqdehHCix",
        "colab": {
          "base_uri": "https://localhost:8080/"
        },
        "outputId": "13e0cd44-663f-4b9e-b584-dbb5112d1647"
      },
      "source": [
        "# Jika angka adalah bilangan positif maka print  \"adalah bilangan positif\"\n",
        "\n",
        "angka = 3\n",
        "if angka > 0:\n",
        "    print(angka, \"adalah bilangan positif.\") \n",
        "print(\"Pernyataan ini selalu ditampilkan.\")\n",
        "\n",
        "angka = -1\n",
        "if angka > 0:\n",
        "    print(angka, \"adalah bilangan positif.\") \n",
        "print(\"Pernyataan ini juga selalu ditampilkan.\")"
      ],
      "execution_count": 3,
      "outputs": [
        {
          "output_type": "stream",
          "name": "stdout",
          "text": [
            "3 adalah bilangan positif.\n",
            "Pernyataan ini selalu ditampilkan.\n",
            "Pernyataan ini juga selalu ditampilkan.\n"
          ]
        }
      ]
    },
    {
      "cell_type": "markdown",
      "metadata": {
        "id": "Od4oQi8JIMfT"
      },
      "source": [
        "###IF ELSE Statements"
      ]
    },
    {
      "cell_type": "code",
      "source": [
        "if  test expression:\n",
        "    Body of if\n",
        "else :\n",
        "    Body of else"
      ],
      "metadata": {
        "colab": {
          "base_uri": "https://localhost:8080/",
          "height": 130
        },
        "id": "m9KLE9EAa_0q",
        "outputId": "7a18780e-7f42-4ac5-f33b-e57774c40e60"
      },
      "execution_count": null,
      "outputs": [
        {
          "output_type": "error",
          "ename": "SyntaxError",
          "evalue": "ignored",
          "traceback": [
            "\u001b[0;36m  File \u001b[0;32m\"<ipython-input-3-4004cafd32fe>\"\u001b[0;36m, line \u001b[0;32m1\u001b[0m\n\u001b[0;31m    if  test expression:\u001b[0m\n\u001b[0m             ^\u001b[0m\n\u001b[0;31mSyntaxError\u001b[0m\u001b[0;31m:\u001b[0m invalid syntax\n"
          ]
        }
      ]
    },
    {
      "cell_type": "markdown",
      "metadata": {
        "id": "e4DuMgh3P95P"
      },
      "source": [
        "\n",
        "**Python IF ELSE Statement Syntax**\n",
        "\n",
        "```\n",
        "if  test expression:\n",
        "    Body of if\n",
        "else :\n",
        "    Body of else\n",
        "```\n",
        "\n",
        "**Python IF ELSE Statement Flowchart**\n",
        "![Python_if_else_statement.webp](data:image/webp;base64,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)\n",
        "\n",
        "\n",
        "**Example: Python  IF ELSE Statement**"
      ]
    },
    {
      "cell_type": "code",
      "metadata": {
        "id": "C9cLJRAbToec",
        "colab": {
          "base_uri": "https://localhost:8080/"
        },
        "outputId": "7d5bbd55-a729-45cf-de2c-57c1b6281cc6"
      },
      "source": [
        "# Program disusun untuk mengecek apakah angka tersebut kurang dari 0 atau tidak\n",
        "# dan menampilkan tulisan yang sesuai\n",
        "\n",
        "angka = 3\n",
        "\n",
        "if angka >= 0:\n",
        "    print(\"Bilangan lebih dari atau samadengan 0\") \n",
        "else:\n",
        "    print(\"Bilangan kurang dari 0\")"
      ],
      "execution_count": 4,
      "outputs": [
        {
          "output_type": "stream",
          "name": "stdout",
          "text": [
            "Bilangan lebih dari atau samadengan 0\n"
          ]
        }
      ]
    },
    {
      "cell_type": "code",
      "metadata": {
        "id": "njT1LQd0UhgA",
        "colab": {
          "base_uri": "https://localhost:8080/"
        },
        "outputId": "9c75f1e3-0880-45bd-d96a-7a082d25dfc0"
      },
      "source": [
        "# Program disusun untuk mengecek apakah dua buah angka sama atau tidak\n",
        "# dan menampilkan tulisan yang sesuai\n",
        "\n",
        "a = 5\n",
        "b = 5\n",
        "\n",
        "if a==b:\n",
        "    print(\"a dan B bernilai sama\")\n",
        "else:\n",
        "    print(\"a dan b bernilai berbeda\") \n",
        "    print(\"Belajar if else\")"
      ],
      "execution_count": 5,
      "outputs": [
        {
          "output_type": "stream",
          "name": "stdout",
          "text": [
            "a dan B bernilai sama\n"
          ]
        }
      ]
    },
    {
      "cell_type": "code",
      "metadata": {
        "id": "4Hah-lzDVj3p",
        "colab": {
          "base_uri": "https://localhost:8080/"
        },
        "outputId": "6ff19ef4-6781-4c32-b0df-2b66b71d9cfc"
      },
      "source": [
        "# Program disusun untuk mengecek apakah perbandingan dua buah angka\n",
        "# dan menampilkan tulisan yang sesuai\n",
        "\n",
        "# membaca dua angka\n",
        "bil1 = int(input(\"Masukkan bilangan pertama: \")) \n",
        "bil2 = int(input(\"Masukkan bilangan kedua a: \")) \n",
        "\n",
        "# memilih bilangan yang lebih besar\n",
        "if bil1 > bil2:\n",
        "    bil_lebih_besar = bil1\n",
        "else:\n",
        "    bil_lebih_besar = bil2\n",
        "\n",
        "# menampilkan hasil\n",
        "print(\"Bilangan yang lebih besar adalah:\", bil_lebih_besar)"
      ],
      "execution_count": 6,
      "outputs": [
        {
          "output_type": "stream",
          "name": "stdout",
          "text": [
            "Masukkan bilangan pertama: 5\n",
            "Masukkan bilangan kedua a: 23\n",
            "Bilangan yang lebih besar adalah: 23\n"
          ]
        }
      ]
    },
    {
      "cell_type": "markdown",
      "metadata": {
        "id": "isKlsjOnXLwy"
      },
      "source": [
        "##IF ELIF ELSE  Statements"
      ]
    },
    {
      "cell_type": "markdown",
      "metadata": {
        "id": "DJNYqOFWXWx1"
      },
      "source": [
        "**Python IF ELIF ELSE Statement Syntax**\n",
        "\n",
        "\n",
        "```\n",
        "if text expression:\n",
        "    Body of if\n",
        "elif text expression:\n",
        "    Body of elif\n",
        "else :\n",
        "    Body of else\n",
        "```\n",
        "**Python IF ELIF ELSE Statement Flow Chart**\n",
        "\n",
        "![Python_if_elif_else_statement.webp](data:image/webp;base64,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)\n",
        "\n",
        "**Example: Python IF ELIF ELSE Statement**"
      ]
    },
    {
      "cell_type": "code",
      "metadata": {
        "id": "J9xFf2CJYtpH",
        "colab": {
          "base_uri": "https://localhost:8080/"
        },
        "outputId": "b9e6d626-92ed-4fd6-dc15-81a05cfcd14a"
      },
      "source": [
        "# Program disusun untuk mengecek apakah angka merupakan bilangan positif, negatif atau nol\n",
        "# dan menampilkan tulisan yang sesuai\n",
        "\n",
        "angka = 3.4\n",
        "\n",
        "if angka > 0:\n",
        "    print(\"Bilangan Positif\")\n",
        "elif num == 0:\n",
        "    print(\"Nol\") \n",
        "else:\n",
        "    print(\"Bilangan Negatif\")"
      ],
      "execution_count": 7,
      "outputs": [
        {
          "output_type": "stream",
          "name": "stdout",
          "text": [
            "Bilangan Positif\n"
          ]
        }
      ]
    },
    {
      "cell_type": "code",
      "metadata": {
        "id": "_yp-V75bZsHF",
        "colab": {
          "base_uri": "https://localhost:8080/"
        },
        "outputId": "648a722f-e6c5-43c7-e562-df8a9b13ab45"
      },
      "source": [
        "# Statement if\n",
        "x = 4\n",
        "if x % 2 == 0: # jika x dibagi 2 sisanya samadengan 0\n",
        "    print(\"x habis dibagi dua\") \n",
        "\n",
        "# Stataement if ... elif ... else\n",
        "x = 7\n",
        "if x % 2 == 0: # jika x dibagi 2 sisanya samadenga 0\n",
        "    print(\"x habis dibagi dua\")\n",
        "elif x % 3 ==0: # jika x dibagi 3 sisanya samadengan 0\n",
        "    print(\"x habis dibagi tiga\") \n",
        "elif x % 5 == 0: # jika x dibagi 5 sisanya samadengan 0\n",
        "    print(\"x habis dibagi lima\")\n",
        "else:\n",
        "    print(\"x tidak habis dibagi dua, tiga atapun lima\")"
      ],
      "execution_count": 9,
      "outputs": [
        {
          "output_type": "stream",
          "name": "stdout",
          "text": [
            "x habis dibagi dua\n",
            "x tidak habis dibagi dua, tiga atapun lima\n"
          ]
        }
      ]
    },
    {
      "cell_type": "markdown",
      "metadata": {
        "id": "uQ0KgnTxbZQc"
      },
      "source": [
        "###Python Nested IF statements"
      ]
    },
    {
      "cell_type": "markdown",
      "metadata": {
        "id": "mGnOR_qEcO76"
      },
      "source": [
        "**Example Python NESTED IF Statement**"
      ]
    },
    {
      "cell_type": "code",
      "metadata": {
        "id": "lN9hc-brcdB4",
        "colab": {
          "base_uri": "https://localhost:8080/"
        },
        "outputId": "5a2d6d10-97df-4643-b040-52a0c392cd07"
      },
      "source": [
        "# Program disusun untuk mengecek apakah angka merupakan bilangan  positif\n",
        "# dan menampilkan tulisan yang sesuai\n",
        "\n",
        "angka = float(input(\"Masukkan angka: \"))\n",
        "if angka >= 0:\n",
        "    if angka ==0:\n",
        "        print(\"Nol\")\n",
        "    else:\n",
        "        print(\"Bilangan Positif\")\n",
        "else:\n",
        "    print(\"Bilangan Negatif\")"
      ],
      "execution_count": 11,
      "outputs": [
        {
          "output_type": "stream",
          "name": "stdout",
          "text": [
            "Masukkan angka: 5\n",
            "Bilangan Positif\n"
          ]
        }
      ]
    },
    {
      "cell_type": "markdown",
      "metadata": {
        "id": "lvvDVZSvnhuG"
      },
      "source": [
        "###Latihan"
      ]
    },
    {
      "cell_type": "markdown",
      "metadata": {
        "id": "vMDUOzSfnncm"
      },
      "source": [
        "Buatlah sebuah fungsi\"Mahal_Diskon\"dengan ketentuan:\n",
        "\n",
        "\n",
        "*   Input berupa data harga produk dengan tipe data numerik Tunggal\n",
        "*   Kategori Input adalah \"Murah\" dan \"Mahal\", kemudian diskon ada 3 kategori \"10%\",\"20%\",dan\"40%\"\n",
        "*  Pertama sebuah teks/string yang menyatakan \"Mahal\" atau \"Murah\" dan  \"Kamu Dapat Diskon...\"\n",
        "*  Output kedua adalah harga yang perlu dibayarkan  \n"
      ]
    },
    {
      "cell_type": "code",
      "metadata": {
        "colab": {
          "base_uri": "https://localhost:8080/"
        },
        "id": "HEHJXMq7o0y-",
        "outputId": "80fab468-8964-4dd9-972d-0f72799d12eb"
      },
      "source": [
        "# Ketikkan Codingan anda\n",
        "\n",
        "#Input Data\n",
        "print(' Toko voucher Game Garena Aov ')\n",
        "print('====================')\n",
        "print(' ')\n",
        "\n",
        "jb = int(input(' Jumlah Barang : '))\n",
        "harga = 3400\n",
        "harga_awal = jb*harga\n",
        "\n",
        "if harga_awal <= 10000 : disc = 0.1*harga\n",
        "elif harga_awal > 10000 and jb <=20000 : disc = 0.2*harga\n",
        "elif harga_awal > 20000 : disc = 0.4*harga \n",
        "\n",
        "ht = harga_awal - disc\n",
        "if ht >= 75000:\n",
        "    print(\"Harga barang mahal\")\n",
        "if ht < 75000:\n",
        "    print(\"Harga barang murah\")\n",
        "print(\"Harga Total Sebelum Diskon: Rp. \", harga_awal)\n",
        "print(\"Potongan Harga            : Rp. \",disc)\n",
        "print(\"Harga Yang Harus Di Bayar : Rp. \",ht)\n",
        "print(\" \")\n",
        "print(\"====================\")\n",
        "print(\"\\t\\tTerima Kasih \\t/\\t\") \n",
        "\n"
      ],
      "execution_count": 18,
      "outputs": [
        {
          "output_type": "stream",
          "name": "stdout",
          "text": [
            " Toko voucher Game Garena Aov \n",
            "====================\n",
            " \n",
            " Jumlah Barang : 20\n",
            "Harga barang murah\n",
            "Harga Total Sebelum Diskon: Rp.  68000\n",
            "Potongan Harga            : Rp.  680.0\n",
            "Harga Yang Harus Di Bayar : Rp.  67320.0\n",
            " \n",
            "====================\n",
            "\t\tTerima Kasih \t/\t\n"
          ]
        }
      ]
    }
  ]
}