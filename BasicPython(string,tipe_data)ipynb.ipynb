{
  "nbformat": 4,
  "nbformat_minor": 0,
  "metadata": {
    "colab": {
      "provenance": []
    },
    "kernelspec": {
      "name": "python3",
      "display_name": "Python 3"
    },
    "language_info": {
      "name": "python"
    }
  },
  "cells": [
    {
      "cell_type": "markdown",
      "source": [
        "# **Belajar Python**\n",
        "\n"
      ],
      "metadata": {
        "id": "GbYOov2_ips-"
      }
    },
    {
      "cell_type": "markdown",
      "source": [
        "##Variable\n",
        "\n",
        "\n"
      ],
      "metadata": {
        "id": "zdSnPvZ9nKoZ"
      }
    },
    {
      "cell_type": "markdown",
      "source": [
        "**Variables** : Lokasi penyimpanan yang dapat digunakan untuk menampung sebuah data atau informasi. Syarat-syarat penamaan Variabel\n",
        "1. Karakter-karakter yang digunakan untuk penamaan variable adalah alphabet, angka, dan underscore.\n",
        "2. Karakter"
      ],
      "metadata": {
        "id": "cE3oTK1-nWXW"
      }
    },
    {
      "cell_type": "code",
      "source": [
        "a = \"mangga, apel, rambutan\""
      ],
      "metadata": {
        "id": "-i9HgXk3oUUl"
      },
      "execution_count": 1,
      "outputs": []
    },
    {
      "cell_type": "code",
      "source": [
        "#membuat variable\n",
        "kalimat ='ini adalah variable'\n",
        "bilangan1 = 4\n",
        "bilangan2 = 2.5\n",
        "bilangan3 = True\n",
        "bilangan4 = 1j+4"
      ],
      "metadata": {
        "id": "uGSCV0_tocU6"
      },
      "execution_count": 2,
      "outputs": []
    },
    {
      "cell_type": "code",
      "source": [
        "# Menampilkan kode diatas\n",
        "print((kalimat))\n",
        "print( (bilangan1))\n",
        "print((bilangan2))\n",
        "print((bilangan3))\n",
        "print((bilangan4))"
      ],
      "metadata": {
        "colab": {
          "base_uri": "https://localhost:8080/"
        },
        "id": "_lW1VcPqpSHU",
        "outputId": "6cdbb472-9816-499c-c234-0a0d1f513b93"
      },
      "execution_count": 3,
      "outputs": [
        {
          "output_type": "stream",
          "name": "stdout",
          "text": [
            "ini adalah variable\n",
            "4\n",
            "2.5\n",
            "True\n",
            "(4+1j)\n"
          ]
        }
      ]
    },
    {
      "cell_type": "markdown",
      "source": [
        "5 tipe data,yaitu:\n",
        "1. INteger atau bilangan bulat\n",
        "2. Float atau bilangan desimal\n",
        "3. String atau Kalimat\n",
        "4. Boolean yang terdiri dari True and False\n",
        "5. Complex yang merupakan bilangan kompleks\n",
        "\n"
      ],
      "metadata": {
        "id": "MTUZsP2brZfR"
      }
    },
    {
      "cell_type": "code",
      "source": [
        "print(type(bilangan4))\n",
        "print(type(kalimat))\n",
        "print(type(bilangan1))\n",
        "print(type(bilangan2))\n",
        "print(type(bilangan3))"
      ],
      "metadata": {
        "colab": {
          "base_uri": "https://localhost:8080/"
        },
        "id": "vrhUrM9jpBa6",
        "outputId": "de804375-9553-4671-9ce2-96e28a513b67"
      },
      "execution_count": 4,
      "outputs": [
        {
          "output_type": "stream",
          "name": "stdout",
          "text": [
            "<class 'complex'>\n",
            "<class 'str'>\n",
            "<class 'int'>\n",
            "<class 'float'>\n",
            "<class 'bool'>\n"
          ]
        }
      ]
    },
    {
      "cell_type": "code",
      "source": [
        "# buatlah 5 jenis variable dan tampilkan dengan fungsi print()\n",
        "# Mendifinisikan variabel\n",
        "sentence = \"This is a python language\"\n",
        "number1 = 45\n",
        "number2 = 4.90\n",
        "number3 = False\n",
        "number4 = 4j-90"
      ],
      "metadata": {
        "id": "rdTyt1rvs2Do"
      },
      "execution_count": 5,
      "outputs": []
    },
    {
      "cell_type": "code",
      "source": [
        "#menampilkan dengan fungsi print() dan type()\n",
        "print(f\"{sentence} adalah tipe {type(sentence)}\")\n",
        "print(f\"{number1} adalah tipe {type(number1)}\")\n",
        "print(f\"{number2} adalah tipe {type(number2)}\")\n",
        "print(f\"{number3} adalah tipe {type(number3)}\")\n",
        "print(f\"{number4} adalah tipe {type(number4)}\")"
      ],
      "metadata": {
        "colab": {
          "base_uri": "https://localhost:8080/"
        },
        "id": "gyaW9NoytaGu",
        "outputId": "c2a7097e-3a80-4630-96f3-d03262b642e3"
      },
      "execution_count": 6,
      "outputs": [
        {
          "output_type": "stream",
          "name": "stdout",
          "text": [
            "This is a python language adalah tipe <class 'str'>\n",
            "45 adalah tipe <class 'int'>\n",
            "4.9 adalah tipe <class 'float'>\n",
            "False adalah tipe <class 'bool'>\n",
            "(-90+4j) adalah tipe <class 'complex'>\n"
          ]
        }
      ]
    },
    {
      "cell_type": "markdown",
      "source": [
        " ## Belajar Python"
      ],
      "metadata": {
        "id": "eEjYRyCwi2xk"
      }
    },
    {
      "cell_type": "markdown",
      "source": [
        "### Belajar Python"
      ],
      "metadata": {
        "id": "n2wmkQSXjGPS"
      }
    },
    {
      "cell_type": "markdown",
      "source": [
        "#### Belajar Pyhon"
      ],
      "metadata": {
        "id": "gu8sdl8MjLho"
      }
    },
    {
      "cell_type": "code",
      "execution_count": 7,
      "metadata": {
        "colab": {
          "base_uri": "https://localhost:8080/"
        },
        "id": "_eapL6epgOI0",
        "outputId": "275f03bb-5e05-4f93-b87a-29016856dd5e"
      },
      "outputs": [
        {
          "output_type": "stream",
          "name": "stdout",
          "text": [
            "Hello World\n",
            "0\n",
            "Hello world 0\n",
            "1\n",
            "Hello world 1\n"
          ]
        }
      ],
      "source": [
        "print(\"Hello World\")\n",
        "for i in range(2):\n",
        "  print(i)\n",
        "  print(\"Hello world \" + str(i))\n"
      ]
    },
    {
      "cell_type": "code",
      "source": [
        "A=\"Belajar Struktur data string\"\n",
        "print(len(A))\n",
        "print (A[:5])\n",
        "print(A[8:16])\n",
        "print(A[0])\n",
        "print(A[-1])\n",
        "print(not A[0] and not A[-1])\n",
        "print(A[1:-1])"
      ],
      "metadata": {
        "colab": {
          "base_uri": "https://localhost:8080/"
        },
        "id": "WKp78sCgpcV-",
        "outputId": "21c202ef-4912-4c7a-c270-963b7ce85885"
      },
      "execution_count": 8,
      "outputs": [
        {
          "output_type": "stream",
          "name": "stdout",
          "text": [
            "28\n",
            "Belaj\n",
            "Struktur\n",
            "B\n",
            "g\n",
            "False\n",
            "elajar Struktur data strin\n"
          ]
        }
      ]
    },
    {
      "cell_type": "code",
      "source": [
        "#strip\n",
        "z='rzl rdt P'\n",
        "z\n",
        "z.strip(\"z\")\n"
      ],
      "metadata": {
        "colab": {
          "base_uri": "https://localhost:8080/",
          "height": 35
        },
        "id": "gczJQThNsVke",
        "outputId": "a7f15063-1a9f-4712-e761-d30d097802f1"
      },
      "execution_count": 9,
      "outputs": [
        {
          "output_type": "execute_result",
          "data": {
            "text/plain": [
              "'rzl rdt P'"
            ],
            "application/vnd.google.colaboratory.intrinsic+json": {
              "type": "string"
            }
          },
          "metadata": {},
          "execution_count": 9
        }
      ]
    },
    {
      "cell_type": "code",
      "source": [
        "#replace\n",
        "A=\"Belajar Struktur data string\"\n",
        "A.replace(\"u\",\"i\")"
      ],
      "metadata": {
        "colab": {
          "base_uri": "https://localhost:8080/",
          "height": 35
        },
        "id": "l5-rcNjBsowY",
        "outputId": "60cfd789-b251-4551-e16c-8298562419e7"
      },
      "execution_count": 10,
      "outputs": [
        {
          "output_type": "execute_result",
          "data": {
            "text/plain": [
              "'Belajar Striktir data string'"
            ],
            "application/vnd.google.colaboratory.intrinsic+json": {
              "type": "string"
            }
          },
          "metadata": {},
          "execution_count": 10
        }
      ]
    },
    {
      "cell_type": "code",
      "source": [
        "#split\n",
        "A=\"Belajar Struktur data string\"\n",
        "A.split(A)"
      ],
      "metadata": {
        "colab": {
          "base_uri": "https://localhost:8080/"
        },
        "id": "W6h3dRImtHLX",
        "outputId": "270cad0b-d694-4bc4-bbbd-bd56109a0ed6"
      },
      "execution_count": 11,
      "outputs": [
        {
          "output_type": "execute_result",
          "data": {
            "text/plain": [
              "['', '']"
            ]
          },
          "metadata": {},
          "execution_count": 11
        }
      ]
    },
    {
      "cell_type": "code",
      "source": [
        "k_1 =\"Belajar\"\n",
        "k_2 =\"Bahasa\"\n",
        "k_3 =\"Pemograman Python\"\n",
        "print(k_1 + k_2 +k_3)\n",
        "\n",
        "#set\n",
        "set_1 = {1,2,\"Python\",4j+4,4}\n",
        "set_2 ={3, \"C++\",1, 4.0}\n",
        "set_3 = {1,1,\"Phyhon\",}   # pebuktian jika set hanya menhambil satu data saja bila ada yang sama 2 atau lebih\n",
        "print(set_3)\n",
        "print(set_1.union(set_2)) # gabungan\n",
        "print(set_1.intersection(set_2))  # irisan akan menganggap 1 float dan integer jika nilainya sama\n",
        "\n",
        "\n"
      ],
      "metadata": {
        "colab": {
          "base_uri": "https://localhost:8080/"
        },
        "id": "e_qgHvNhtafq",
        "outputId": "f53800e4-f659-429d-e436-0ef89d664151"
      },
      "execution_count": 12,
      "outputs": [
        {
          "output_type": "stream",
          "name": "stdout",
          "text": [
            "BelajarBahasaPemograman Python\n",
            "{1, 'Phyhon'}\n",
            "{1, 2, 3, 4, 'C++', 'Python', (4+4j)}\n",
            "{1, 4.0}\n"
          ]
        }
      ]
    },
    {
      "cell_type": "code",
      "source": [
        "ganjil = {1,3,5,7,9}\n",
        "genap = {2,4,6,8,10}\n",
        "prima = {2,3,5,7}\n",
        "\n",
        "#Union\n",
        "print(ganjil.union(genap))\n",
        "\n",
        "#Intersection\n",
        "print(ganjil.intersection(prima))\n",
        "print(ganjil.intersection(genap,ganjil))"
      ],
      "metadata": {
        "colab": {
          "base_uri": "https://localhost:8080/"
        },
        "id": "w6xa621xvtF2",
        "outputId": "0e2b5a57-6f2c-4c6c-b923-12b764efcab3"
      },
      "execution_count": 13,
      "outputs": [
        {
          "output_type": "stream",
          "name": "stdout",
          "text": [
            "{1, 2, 3, 4, 5, 6, 7, 8, 9, 10}\n",
            "{3, 5, 7}\n",
            "set()\n"
          ]
        }
      ]
    },
    {
      "cell_type": "code",
      "source": [
        "D1={1:\"keys\", \"values\" :2}\n",
        "print(D1)\n",
        "\n",
        "dic_1 ={1:\"Phython\",\n",
        "        2:\"C++\",\n",
        "        3:\"Dart\", \n",
        "        4:\"R\"}\n",
        "print(dic_1.values())\n",
        "print(dic_1.keys())\n",
        "print('')\n",
        "print(f\"dic_1 key 4 = {dic_1[4]},\\n dic_1 key1 = {dic_1[1]},\\ndic_1 key 4 = {dic_1[4]}\")"
      ],
      "metadata": {
        "colab": {
          "base_uri": "https://localhost:8080/"
        },
        "id": "DMtAgzvQw8A5",
        "outputId": "7db5b5ec-fde4-419c-d1c2-9d6ee5611217"
      },
      "execution_count": 14,
      "outputs": [
        {
          "output_type": "stream",
          "name": "stdout",
          "text": [
            "{1: 'keys', 'values': 2}\n",
            "dict_values(['Phython', 'C++', 'Dart', 'R'])\n",
            "dict_keys([1, 2, 3, 4])\n",
            "\n",
            "dic_1 key 4 = R,\n",
            " dic_1 key1 = Phython,\n",
            "dic_1 key 4 = R\n"
          ]
        }
      ]
    },
    {
      "cell_type": "code",
      "source": [
        "L2 =[3,'Tiga', False,2000, 7.0]\n",
        "L2\n",
        "\n",
        "D2 ={10: 'genap', 3+3j : 8, 5.5: True, 8: L2[0], 8j+2: L2[-3]} # mengambil dari list secara terpisah\n",
        "D2 ={10: 'genap', 3+3j : 8, 5.5: True, 8: L2} # mengambil dari list keseluruhan\n",
        "print(D2)\n",
        "print(D2[5.5],D2[10])\n"
      ],
      "metadata": {
        "colab": {
          "base_uri": "https://localhost:8080/"
        },
        "id": "2eifJz0wydnX",
        "outputId": "95925786-e18b-4e7c-8154-b31eb2c0d25e"
      },
      "execution_count": 15,
      "outputs": [
        {
          "output_type": "stream",
          "name": "stdout",
          "text": [
            "{10: 'genap', (3+3j): 8, 5.5: True, 8: [3, 'Tiga', False, 2000, 7.0]}\n",
            "True genap\n"
          ]
        }
      ]
    },
    {
      "cell_type": "code",
      "source": [
        "bilangan_1 = 5\n",
        "bilangan_2 = 10\n",
        "kalimat = \"pejuang data 3.0\""
      ],
      "metadata": {
        "id": "Q5Ou7boMqPOU"
      },
      "execution_count": 16,
      "outputs": []
    },
    {
      "cell_type": "code",
      "source": [
        "print(bilangan_1)\n",
        "print(kalimat)"
      ],
      "metadata": {
        "colab": {
          "base_uri": "https://localhost:8080/"
        },
        "id": "bfBNJPOapKNx",
        "outputId": "9eaeebed-ed9b-4973-b462-3b929636d692"
      },
      "execution_count": 17,
      "outputs": [
        {
          "output_type": "stream",
          "name": "stdout",
          "text": [
            "5\n",
            "pejuang data 3.0\n"
          ]
        }
      ]
    },
    {
      "cell_type": "code",
      "source": [
        "import matplotlib.pyplot as plt\n",
        "import pandas as pd\n",
        "pd = pd.read_csv('sample_data/mnist_test.csv')\n",
        "print(pd.head(10))"
      ],
      "metadata": {
        "colab": {
          "base_uri": "https://localhost:8080/"
        },
        "id": "XUL8pqOwhpwS",
        "outputId": "2a7cf1df-15d9-4224-8625-2e4ab414ff64"
      },
      "execution_count": 18,
      "outputs": [
        {
          "output_type": "stream",
          "name": "stdout",
          "text": [
            "   7  0  0.1  0.2  0.3  0.4  0.5  0.6  0.7  0.8  ...  0.658  0.659  0.660  \\\n",
            "0  2  0    0    0    0    0    0    0    0    0  ...      0      0      0   \n",
            "1  1  0    0    0    0    0    0    0    0    0  ...      0      0      0   \n",
            "2  0  0    0    0    0    0    0    0    0    0  ...      0      0      0   \n",
            "3  4  0    0    0    0    0    0    0    0    0  ...      0      0      0   \n",
            "4  1  0    0    0    0    0    0    0    0    0  ...      0      0      0   \n",
            "5  4  0    0    0    0    0    0    0    0    0  ...      0      0      0   \n",
            "6  9  0    0    0    0    0    0    0    0    0  ...      0      0      0   \n",
            "7  5  0    0    0    0    0    0    0    0    0  ...      0      0      0   \n",
            "8  9  0    0    0    0    0    0    0    0    0  ...      0      0      0   \n",
            "9  0  0    0    0    0    0    0    0    0    0  ...      0      0      0   \n",
            "\n",
            "   0.661  0.662  0.663  0.664  0.665  0.666  0.667  \n",
            "0      0      0      0      0      0      0      0  \n",
            "1      0      0      0      0      0      0      0  \n",
            "2      0      0      0      0      0      0      0  \n",
            "3      0      0      0      0      0      0      0  \n",
            "4      0      0      0      0      0      0      0  \n",
            "5      0      0      0      0      0      0      0  \n",
            "6      0      0      0      0      0      0      0  \n",
            "7      0      0      0      0      0      0      0  \n",
            "8      0      0      0      0      0      0      0  \n",
            "9      0      0      0      0      0      0      0  \n",
            "\n",
            "[10 rows x 785 columns]\n"
          ]
        }
      ]
    },
    {
      "cell_type": "code",
      "source": [
        "# ini adalah sel kode\n",
        "\"\"\"\n",
        "this is to define multiline\n",
        "  comment\n",
        "\"\"\"\n",
        "\n"
      ],
      "metadata": {
        "id": "Gdpi0oq3r6cF",
        "colab": {
          "base_uri": "https://localhost:8080/",
          "height": 35
        },
        "outputId": "2808972b-6a12-4c92-f3a8-eb3dc0dc49f7"
      },
      "execution_count": 19,
      "outputs": [
        {
          "output_type": "execute_result",
          "data": {
            "text/plain": [
              "'\\nthis is to define multiline\\n  comment\\n'"
            ],
            "application/vnd.google.colaboratory.intrinsic+json": {
              "type": "string"
            }
          },
          "metadata": {},
          "execution_count": 19
        }
      ]
    },
    {
      "cell_type": "code",
      "source": [],
      "metadata": {
        "id": "oR4HMDfUsNzS"
      },
      "execution_count": 19,
      "outputs": []
    }
  ]
}