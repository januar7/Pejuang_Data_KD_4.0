{
  "nbformat": 4,
  "nbformat_minor": 0,
  "metadata": {
    "colab": {
      "provenance": []
    },
    "kernelspec": {
      "name": "python3",
      "display_name": "Python 3"
    },
    "language_info": {
      "name": "python"
    }
  },
  "cells": [
    {
      "cell_type": "markdown",
      "metadata": {
        "id": "30JMeDNKjF-e"
      },
      "source": [
        "#**Looping/Perulangan**\n",
        "\n",
        "Python menyediakan dua statement untuk melakukan proses pengulangan yaitu for dan while. Diantara kedua statement ini, secara umum for lebih banyak digunakan daripada while."
      ]
    },
    {
      "cell_type": "markdown",
      "metadata": {
        "id": "Ax6ocIzukugy"
      },
      "source": [
        "##For Loop\n",
        "Perulangan `for` digunakan untuk melakukan iterasi di dalam `sequence` seperti `list, tuple, string`,dan `array `atau objek yang dapat diiterasi lainnya.\n",
        "\n",
        "**For Loop Syntax**\n",
        "<pre>\n",
        "for val in sequences\n",
        "    loop body  \n",
        "</pre>\n",
        "\n"
      ]
    },
    {
      "cell_type": "markdown",
      "metadata": {
        "id": "P5iFnC36Q7z-"
      },
      "source": [
        "**Example: Python for Loop**"
      ]
    },
    {
      "cell_type": "code",
      "metadata": {
        "colab": {
          "base_uri": "https://localhost:8080/"
        },
        "id": "BjoMpu59Rsv_",
        "outputId": "b7df6742-13ce-4901-c706-a23c54563897"
      },
      "source": [
        "# Program untuk menghitung jumlah semua angka dalam aebuah list\n",
        "L1 = [2, 4, 5, 7, 9]\n",
        "jumlah = 0\n",
        "\n",
        "# iterasi di dalam list\n",
        "for i in L1:\n",
        "  jumlah = jumlah + i\n",
        "\n",
        "print(jumlah)"
      ],
      "execution_count": 1,
      "outputs": [
        {
          "output_type": "stream",
          "name": "stdout",
          "text": [
            "27\n"
          ]
        }
      ]
    },
    {
      "cell_type": "markdown",
      "metadata": {
        "id": "qB3YmKFIWw9s"
      },
      "source": [
        "###**The range() function**"
      ]
    },
    {
      "cell_type": "code",
      "metadata": {
        "colab": {
          "base_uri": "https://localhost:8080/"
        },
        "id": "-7_Jmx5KQpKl",
        "outputId": "2d525a62-1d5e-4dad-a90a-eb21f0222c2a"
      },
      "source": [
        "# Program untuk melakukan iterasi di dalam list melalui indeks\n",
        "minuman = [\"teh\", \"boba\", \"kopi\", \"susu\"]\n",
        "p = len(minuman)\n",
        "\n",
        "#iterasi di dalam list melalui indeks\n",
        "for i in range(p):\n",
        "  print(minuman[i])"
      ],
      "execution_count": 2,
      "outputs": [
        {
          "output_type": "stream",
          "name": "stdout",
          "text": [
            "teh\n",
            "boba\n",
            "kopi\n",
            "susu\n"
          ]
        }
      ]
    },
    {
      "cell_type": "markdown",
      "metadata": {
        "id": "lAPVHhDfOMWw"
      },
      "source": [
        "###**foor loop with else**\n",
        "\n",
        "\n",
        "\n",
        "\n"
      ]
    },
    {
      "cell_type": "code",
      "metadata": {
        "colab": {
          "base_uri": "https://localhost:8080/"
        },
        "id": "1Gsh8U0HYY-L",
        "outputId": "df943e86-7115-4680-a723-244646a96dad"
      },
      "source": [
        "# Contoh for loop menggunakan else\n",
        "for i in range(p):\n",
        "  print(minuman[i])\n",
        "else:\n",
        "  print(\"elemen sudah habis\")"
      ],
      "execution_count": 3,
      "outputs": [
        {
          "output_type": "stream",
          "name": "stdout",
          "text": [
            "teh\n",
            "boba\n",
            "kopi\n",
            "susu\n",
            "elemen sudah habis\n"
          ]
        }
      ]
    },
    {
      "cell_type": "markdown",
      "metadata": {
        "id": "lRrgxbpWY2e_"
      },
      "source": [
        "###Latihan 1"
      ]
    },
    {
      "cell_type": "markdown",
      "metadata": {
        "id": "CAD9I74wbDvc"
      },
      "source": [
        "Diberikan `list_tagihan`. Kamu diminta untuk menghitung jumlah seluruh tagihan!. Gunakan looping for untuk menyelesaikan tugas ini!\n",
        "\n",
        "Simpan hasilnya pada variabel `total_tagihan`!\n",
        "\n",
        "```\n",
        "list_tagihan = [ 50000, 75000, -150000, 125000, 300000, -50000, 200000]\n",
        "```"
      ]
    },
    {
      "cell_type": "code",
      "metadata": {
        "id": "0cYwMsv2bG0n",
        "colab": {
          "base_uri": "https://localhost:8080/"
        },
        "outputId": "9288404f-a7d2-460d-d59c-60f4705383e8"
      },
      "source": [
        "# tuliskan code kalian\n",
        "\n",
        "list_tagihan = [ 50000, 75000, -150000, 125000, 300000, -50000, 200000]\n",
        "total_tagihan = 0\n",
        "for p in list_tagihan:\n",
        "  total_tagihan = total_tagihan + p\n",
        "print(total_tagihan)"
      ],
      "execution_count": 4,
      "outputs": [
        {
          "output_type": "stream",
          "name": "stdout",
          "text": [
            "550000\n"
          ]
        }
      ]
    },
    {
      "cell_type": "markdown",
      "metadata": {
        "id": "rZIZhi9CbNS2"
      },
      "source": [
        "###**While Loop**\n",
        "\n",
        "While loop pada Python digunakan untuk melakukan iterasi pada blok kode selama nilai dari `test expression` adalah \n",
        "`true`\n",
        "\n",
        "**Syntax of while Loop in Python**\n",
        "\n",
        "```\n",
        "while test_expression:\n",
        "    Body of while\n",
        "```\n",
        "\n",
        "**Example: Python while Loop**"
      ]
    },
    {
      "cell_type": "code",
      "metadata": {
        "id": "JmYubzEPcV-5"
      },
      "source": [
        "# Program untuk menjumlahkan semua\n",
        "# bilangan asli hingga suku ke-n\n",
        "# jum = 1+2+3+...+n\n",
        "\n",
        "n = 10\n",
        "jumlah = 0\n",
        "i = 1\n",
        "\n",
        "while 1 <= n:\n",
        "  jumlah = jumlah + i\n",
        "  i = i + 1\n",
        "\n",
        "print(jumlah)"
      ],
      "execution_count": null,
      "outputs": []
    },
    {
      "cell_type": "markdown",
      "metadata": {
        "id": "R3SLZBZId2Z6"
      },
      "source": [
        "###**Whle loop with else**\n",
        "\n",
        "Sama dengan `for` loop lita juga dapat mengkombinasikan `while` loop denga blok `else`.\n",
        "Bagian `else` akan dieksekusi ika nilai pada `test expression` pada `while loop` bernilai `false`. Perhatikan contoh berikut:\n"
      ]
    },
    {
      "cell_type": "code",
      "metadata": {
        "id": "bptgmEMBeFEn"
      },
      "source": [
        "jum = 0\n",
        "i = 1\n",
        "while i <= n:\n",
        "  jum = jum + i\n",
        "  i = i + 1\n",
        "else:\n",
        "  print(jum) # dieksekusi diluar looping\n",
        "  "
      ],
      "execution_count": null,
      "outputs": []
    },
    {
      "cell_type": "markdown",
      "metadata": {
        "id": "7ldlfcRXgRSD"
      },
      "source": [
        "###Latihan 2"
      ]
    },
    {
      "cell_type": "markdown",
      "metadata": {
        "id": "AC7U4RW8gewc"
      },
      "source": [
        "Diberikan list `tagihan` hitunglah `total_tagihan` menggunakan `while loop` .\n",
        "```\n",
        "tagihan = [50000, 75000, 125000, 30000, 200000]\n",
        "```"
      ]
    },
    {
      "cell_type": "code",
      "metadata": {
        "id": "CCMD7e-JgWE-"
      },
      "source": [
        "# Tuliskan kodemu\n",
        "\n",
        "tagihan = [50000, 75000, 125000, 30000, 200000]\n",
        "v = 0\n",
        "while v < len(tagihan):)\n",
        "  v = v +  1\n",
        "\n",
        "    print(tagihan)"
      ],
      "execution_count": null,
      "outputs": []
    }
  ]
}